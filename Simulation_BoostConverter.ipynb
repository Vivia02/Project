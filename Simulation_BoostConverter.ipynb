{
 "cells": [
  {
   "cell_type": "code",
   "execution_count": 1,
   "metadata": {},
   "outputs": [],
   "source": [
    "# Import necessary packages\n",
    "from PyLTSpice import RawRead\n",
    "from PyLTSpice import SimRunner\n",
    "from PyLTSpice import SpiceEditor\n",
    "from matplotlib import pyplot as plt\n",
    "import numpy as np\n",
    "import time\n",
    "import os\n",
    "import re"
   ]
  },
  {
   "cell_type": "code",
   "execution_count": null,
   "metadata": {},
   "outputs": [],
   "source": [
    "#Select LTspice model and create netlist\n",
    "LTC = SimRunner(output_folder='./temp')\n",
    "LTC.create_netlist('BoostConverter.asc')\n",
    "netlist = SpiceEditor('BoostConverter.net')\n",
    "LTC.add_command_line_switch('-alt')  #Set solver to alternate\n",
    "netlist.add_instruction('.options method=Gear') #Set integration method to Gear and create a transient simulation about 200 us"
   ]
  },
  {
   "cell_type": "code",
   "execution_count": null,
   "metadata": {},
   "outputs": [],
   "source": [
    "#Run a simulation and read data\n",
    "LTC.run(netlist)\n",
    "time.sleep(1)\n",
    "\n",
    "AllFiles = os.listdir(\"./temp\")\n",
    "count = [None] * len(AllFiles)\n",
    "for ii in range(len(AllFiles)):\n",
    "    FilenamePart= re.split(\"[_.]\", AllFiles[ii])\n",
    "    count[ii] = FilenamePart[1]\n",
    "ActFile = max(count)\n",
    "PathFail = 'temp\\\\BoostConverter_%s.fail' % str(ActFile)\n",
    "PathRaw = 'temp\\\\BoostConverter_%s.raw' % str(ActFile)\n",
    "PathNet = 'temp\\\\BoostConverter_%s.net' % str(ActFile)\n",
    "\n",
    "#Check if simulation fails\n",
    "if os.path.isfile(PathFail) == False: \n",
    "    print(LTC.active_threads()) \n",
    "    \n",
    "    while LTC.wait_completion() == False:\n",
    "        time.sleep(0.1)\n",
    "        print('Warten')\n",
    "else:\n",
    "    LTC.updated_stats()\n",
    "    LTC.kill_all_ltspice() \n",
    "    os.remove(PathFail)\n",
    "    os.remove(PathNet)\n",
    "    os.remove(PathRaw)\n",
    "    print('Simulation failed')\n",
    "\n",
    "#Read data\n",
    "LTR = RawRead(PathRaw)\n",
    "LTC.file_cleanup()\n",
    "uds_LT = LTR.get_trace('V(uds)').get_wave()\n",
    "t_LT = LTR.get_trace('time').get_wave()\n",
    "uds_LT = LTR.get_trace('V(uds)').get_wave()\n",
    "t_LT = LTR.get_trace('time').get_wave()\n",
    "IV1_LT = LTR.get_trace('I(V1)')\n",
    "t_LT = LTR.get_trace('time')"
   ]
  },
  {
   "cell_type": "code",
   "execution_count": null,
   "metadata": {},
   "outputs": [],
   "source": [
    "#Signalverarbeitung (für die FFT muss die Samplerate konstant sein)\n",
    "Samples = 10001\n",
    "T = 1e-6\n",
    "dt = T / Samples\n",
    "t = np.linspace(0*T,1*T - dt,Samples)\n",
    "uds = np.interp(t,t_LT, uds_LT)\n",
    "Uds = np.fft.fft(uds)\n",
    "f = np.fft.fftfreq(t.shape[-1], d=dt)\n",
    "IV1 = np.interp(t,t_LT, IV1_LT)"
   ]
  },
  {
   "cell_type": "code",
   "execution_count": null,
   "metadata": {},
   "outputs": [],
   "source": [
    "#Save data\n",
    "np.savetxt('uds_Zeit.dat', [t, uds]) #Time domain signal\n",
    "np.savetxt('uds_Freq.dat', [f, Uds]) #Frequency domain signal\n",
    "np.savetxt('IV1_Zeit.dat', [t, IV1])"
   ]
  },
  {
   "cell_type": "code",
   "execution_count": null,
   "metadata": {},
   "outputs": [],
   "source": [
    "#Plot data\n",
    "plt.plot((t-t[0])*1e6,uds)\n",
    "plt.xlabel('t in µs')\n",
    "plt.ylabel('u_{ds} in V')\n",
    "plt.grid(visible=True)\n",
    "plt.xlim(0, (T-dt)*1e6)\n",
    "plt.show()\n",
    "\n",
    "plt.stem(f/1e6,20*np.log10((2*np.absolute(Uds/Samples))/1e-6))\n",
    "plt.xscale('log')\n",
    "plt.xlim(0,100)\n",
    "plt.ylim(80,150)\n",
    "plt.xlabel('f in MHz')\n",
    "plt.ylabel('U_{ds} in dBµV')\n",
    "plt.grid(visible=True)\n",
    "plt.show()\n",
    "\n",
    "plt.plot((t-t[0])*1e6,IV1)\n",
    "plt.xlabel('t in µs')\n",
    "plt.ylabel('I_{V1} in A')\n",
    "plt.grid(visible=True)\n",
    "plt.xlim(0, (T-dt)*1e6)\n",
    "plt.show()"
   ]
  }
 ],
 "metadata": {
  "kernelspec": {
   "display_name": "Python 3 (ipykernel)",
   "language": "python",
   "name": "python3"
  },
  "language_info": {
   "codemirror_mode": {
    "name": "ipython",
    "version": 3
   },
   "file_extension": ".py",
   "mimetype": "text/x-python",
   "name": "python",
   "nbconvert_exporter": "python",
   "pygments_lexer": "ipython3",
   "version": "3.12.4"
  }
 },
 "nbformat": 4,
 "nbformat_minor": 4
}
